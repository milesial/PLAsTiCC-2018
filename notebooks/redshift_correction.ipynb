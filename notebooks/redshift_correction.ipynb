{
 "cells": [
  {
   "cell_type": "markdown",
   "metadata": {},
   "source": [
    "# Analysis of available data for redshift correction\n",
    "\n",
    "redshift correction is the prediction of `hostgal_specz` based on the less precise `hostgal_photoz`, its error, and other features available in the metadata.\n",
    "\n",
    "Indeed, the precise redshift is rarely available in the test set, while very present in the training set.\n",
    "On some rows of the training set, we have no information on the redshift at all.\n",
    "\n",
    "This notebook explores the scale and proportions of the missing and available data for the training of a potential correction model, and the improvements it could do."
   ]
  },
  {
   "cell_type": "code",
   "execution_count": 1,
   "metadata": {},
   "outputs": [],
   "source": [
    "import pandas as pd\n",
    "\n",
    "train_metadata = pd.read_csv('../data/training_set_metadata.csv')\n",
    "test_metadata = pd.read_csv('../data/test_set_metadata.csv')"
   ]
  },
  {
   "cell_type": "markdown",
   "metadata": {},
   "source": [
    "## Available training data\n",
    "\n",
    "We can use data both on the 'training_set' and the 'test_set' to train our model"
   ]
  },
  {
   "cell_type": "code",
   "execution_count": 2,
   "metadata": {},
   "outputs": [],
   "source": [
    "def get_valid_rows_count(df):\n",
    "    \"\"\" Get the number of rows that have all redshift measures (for training) \"\"\"\n",
    "    return ((df['hostgal_specz'] != 0) & (df['hostgal_specz'].notnull()) \\\n",
    "          & (df['hostgal_photoz'] != 0) & (df['hostgal_photoz'].notnull()) \\\n",
    "          & (df['hostgal_photoz_err'] != 0) & df['hostgal_photoz_err'].notnull() \\\n",
    "          & (df['mwebv'] != 0) & df['mwebv'].notnull()\n",
    "          & (df['distmod'] != 0) & df['distmod'].notnull()\n",
    "          & (df['ddf'].notnull())).sum()"
   ]
  },
  {
   "cell_type": "code",
   "execution_count": 3,
   "metadata": {},
   "outputs": [
    {
     "name": "stdout",
     "output_type": "stream",
     "text": [
      "Potential training examples in training_set: 5523 out of 7848\n",
      "Potential training examples in test_set: 120393 out of 3492890\n",
      "In total, 125916 training examples\n"
     ]
    }
   ],
   "source": [
    "train_valid = get_valid_rows_count(train_metadata)\n",
    "train_total = len(train_metadata)\n",
    "test_valid = get_valid_rows_count(test_metadata)\n",
    "test_total = len(test_metadata)\n",
    "print(f'Potential training examples in training_set: {train_valid} out of {train_total}')\n",
    "print(f'Potential training examples in test_set: {test_valid} out of {test_total}')\n",
    "\n",
    "total_valid = test_valid + train_valid\n",
    "print(f'In total, {total_valid} training examples')"
   ]
  },
  {
   "cell_type": "markdown",
   "metadata": {},
   "source": [
    "## Potentially fixable missing data"
   ]
  },
  {
   "cell_type": "code",
   "execution_count": 4,
   "metadata": {},
   "outputs": [],
   "source": [
    "def get_semivalid_rows_count(df):\n",
    "    \"\"\" Get the number of rows that have all features except hostgal_specz \"\"\"\n",
    "    return (((df['hostgal_specz'] == 0) | (df['hostgal_specz'].isnull())) \\\n",
    "          & (df['hostgal_photoz'] != 0) & (df['hostgal_photoz'].notnull()) \\\n",
    "          & (df['hostgal_photoz_err'] != 0) & df['hostgal_photoz_err'].notnull() \\\n",
    "          & (df['mwebv'] != 0) & df['mwebv'].notnull()\n",
    "          & (df['distmod'] != 0) & df['distmod'].notnull()\n",
    "          & (df['ddf'].notnull())).sum()"
   ]
  },
  {
   "cell_type": "code",
   "execution_count": 5,
   "metadata": {},
   "outputs": [
    {
     "name": "stdout",
     "output_type": "stream",
     "text": [
      "Potential fixable examples in training_set: 0 out of 7848\n",
      "Potential fixable examples in test_set: 2981987 out of 3492890\n"
     ]
    }
   ],
   "source": [
    "train_fix = get_semivalid_rows_count(train_metadata)\n",
    "test_fix = get_semivalid_rows_count(test_metadata)\n",
    "print(f'Potential fixable examples in training_set: {train_fix} out of {train_total}')\n",
    "print(f'Potential fixable examples in test_set: {test_fix} out of {test_total}')"
   ]
  },
  {
   "cell_type": "code",
   "execution_count": null,
   "metadata": {},
   "outputs": [],
   "source": []
  }
 ],
 "metadata": {
  "kernelspec": {
   "display_name": "Python 3",
   "language": "python",
   "name": "python3"
  },
  "language_info": {
   "codemirror_mode": {
    "name": "ipython",
    "version": 3
   },
   "file_extension": ".py",
   "mimetype": "text/x-python",
   "name": "python",
   "nbconvert_exporter": "python",
   "pygments_lexer": "ipython3",
   "version": "3.6.6"
  }
 },
 "nbformat": 4,
 "nbformat_minor": 2
}
